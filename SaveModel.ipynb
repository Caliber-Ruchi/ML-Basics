{
 "cells": [
  {
   "cell_type": "code",
   "execution_count": null,
   "id": "7035476d-ad36-4c86-8339-eba0a306e6ea",
   "metadata": {},
   "outputs": [],
   "source": []
  }
 ],
 "metadata": {
  "kernelspec": {
   "display_name": "",
   "name": ""
  },
  "language_info": {
   "name": ""
  }
 },
 "nbformat": 4,
 "nbformat_minor": 5
}
