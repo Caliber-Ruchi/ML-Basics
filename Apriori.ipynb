{
 "cells": [
  {
   "cell_type": "code",
   "execution_count": 2,
   "id": "9331953d-a9f1-441f-a5ac-663f65eda507",
   "metadata": {},
   "outputs": [],
   "source": [
    "import pandas as pd\n",
    "from mlxtend.frequent_patterns import apriori, association_rules"
   ]
  },
  {
   "cell_type": "code",
   "execution_count": 3,
   "id": "3bf3bb71-e5d8-4f33-90fa-f37df4c71fb7",
   "metadata": {},
   "outputs": [],
   "source": [
    "dataset = [\n",
    "    ['Milk','Bread','Butter'],\n",
    "    ['Beer','Bread'],\n",
    "    ['Milk','Bread','Butter','Beer'],\n",
    "    ['Milk','Butter'],\n",
    "    ['Bread','Butter']\n",
    "]"
   ]
  },
  {
   "cell_type": "code",
   "execution_count": 4,
   "id": "5c9a3706-f2d4-4756-9832-6c9356e6a4e3",
   "metadata": {},
   "outputs": [],
   "source": [
    "df = pd.DataFrame(dataset)\n",
    "df = pd.get_dummies(df.stack()).groupby(level = 0).sum()"
   ]
  },
  {
   "cell_type": "code",
   "execution_count": 5,
   "id": "20792e20-400c-44a4-9c96-a7cd5585ba78",
   "metadata": {},
   "outputs": [
    {
     "name": "stdout",
     "output_type": "stream",
     "text": [
      "Frequent Itemsets: \n",
      "   support         itemsets\n",
      "0      0.8          (Bread)\n",
      "1      0.8         (Butter)\n",
      "2      0.6           (Milk)\n",
      "3      0.6  (Bread, Butter)\n",
      "4      0.6   (Milk, Butter)\n",
      "Association Rules\n",
      "  antecedents consequents  antecedent support  consequent support  support  \\\n",
      "0      (Milk)    (Butter)                 0.6                 0.8      0.6   \n",
      "1    (Butter)      (Milk)                 0.8                 0.6      0.6   \n",
      "\n",
      "   confidence  lift  leverage  conviction  zhangs_metric  \n",
      "0        1.00  1.25      0.12         inf            0.5  \n",
      "1        0.75  1.25      0.12         1.6            1.0  \n"
     ]
    },
    {
     "name": "stderr",
     "output_type": "stream",
     "text": [
      "/home/ruchikhandelwal/.local/lib/python3.12/site-packages/mlxtend/frequent_patterns/fpcommon.py:109: DeprecationWarning: DataFrames with non-bool types result in worse computationalperformance and their support might be discontinued in the future.Please use a DataFrame with bool type\n",
      "  warnings.warn(\n"
     ]
    }
   ],
   "source": [
    "frequent_itemsets = apriori(df,min_support = 0.6,use_colnames = True)\n",
    "rules = association_rules(frequent_itemsets,metric = \"lift\",min_threshold = 1)\n",
    "print(\"Frequent Itemsets: \")\n",
    "print(frequent_itemsets)\n",
    "print(\"Association Rules\")\n",
    "print(rules)"
   ]
  },
  {
   "cell_type": "code",
   "execution_count": null,
   "id": "91623fc6-2087-44be-a3ef-1bc0fa1b97fa",
   "metadata": {},
   "outputs": [],
   "source": []
  }
 ],
 "metadata": {
  "kernelspec": {
   "display_name": "Python 3 (ipykernel)",
   "language": "python",
   "name": "python3"
  },
  "language_info": {
   "codemirror_mode": {
    "name": "ipython",
    "version": 3
   },
   "file_extension": ".py",
   "mimetype": "text/x-python",
   "name": "python",
   "nbconvert_exporter": "python",
   "pygments_lexer": "ipython3",
   "version": "3.12.3"
  }
 },
 "nbformat": 4,
 "nbformat_minor": 5
}
