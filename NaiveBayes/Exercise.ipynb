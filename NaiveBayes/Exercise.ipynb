{
 "cells": [
  {
   "cell_type": "code",
   "execution_count": null,
   "id": "bf6ae968-3989-41d6-8aed-f7967d2e4c91",
   "metadata": {},
   "outputs": [],
   "source": [
    "# use wine dataset from sklearn.datasets to classify wines into 3 categories.Load the dataset and split into test and train.\n",
    "# After that train the model using gaussian and multinomial classifier and post which model performs better.Use\n",
    "# the trained model to perform some predictions"
   ]
  }
 ],
 "metadata": {
  "kernelspec": {
   "display_name": "Python 3 (ipykernel)",
   "language": "python",
   "name": "python3"
  },
  "language_info": {
   "codemirror_mode": {
    "name": "ipython",
    "version": 3
   },
   "file_extension": ".py",
   "mimetype": "text/x-python",
   "name": "python",
   "nbconvert_exporter": "python",
   "pygments_lexer": "ipython3",
   "version": "3.12.3"
  }
 },
 "nbformat": 4,
 "nbformat_minor": 5
}
